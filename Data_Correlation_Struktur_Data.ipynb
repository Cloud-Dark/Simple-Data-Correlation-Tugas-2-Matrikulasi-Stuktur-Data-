{
  "nbformat": 4,
  "nbformat_minor": 0,
  "metadata": {
    "colab": {
      "provenance": [],
      "toc_visible": true,
      "authorship_tag": "ABX9TyNrXm3k1J3yU36d82R0U02L",
      "include_colab_link": true
    },
    "kernelspec": {
      "name": "python3",
      "display_name": "Python 3"
    },
    "language_info": {
      "name": "python"
    }
  },
  "cells": [
    {
      "cell_type": "markdown",
      "metadata": {
        "id": "view-in-github",
        "colab_type": "text"
      },
      "source": [
        "<a href=\"https://colab.research.google.com/github/Cloud-Dark/Simple-Data-Correlation-Tugas-2-Matrikulasi-Stuktur-Data-/blob/main/Data_Correlation_Struktur_Data.ipynb\" target=\"_parent\"><img src=\"https://colab.research.google.com/assets/colab-badge.svg\" alt=\"Open In Colab\"/></a>"
      ]
    },
    {
      "cell_type": "markdown",
      "source": [
        "#Data Correlation"
      ],
      "metadata": {
        "id": "O2iNOdWi5hWC"
      }
    },
    {
      "cell_type": "markdown",
      "source": [
        "##Step 1 : Importing the Library\n",
        "Hal pertama yang harus dilakukan adalah meng-import beberapa Library Python untuk kebutuhan dataframe, visualisasi dan clustering, dengan langkah-langkah sebagai berikut:"
      ],
      "metadata": {
        "id": "58JjlgsN5qYu"
      }
    },
    {
      "cell_type": "code",
      "execution_count": 1,
      "metadata": {
        "id": "5W9W-xwc4_Qk"
      },
      "outputs": [],
      "source": [
        "import pandas as pd\n",
        "import matplotlib.pyplot as plt\n",
        "import seaborn as sns"
      ]
    },
    {
      "cell_type": "markdown",
      "source": [
        "##Step 2 : Reading and Understanding the Data\n",
        "Langkah selanjutnya, yaitu meng-input dataset. Dataset yang akan digunakan pada tulisan ini adalah dataset Pembelian Property. [Klik disini](https://raw.githubusercontent.com/Cloud-Dark/datacollection/main/melb_data_processed.csv) untuk mengakses dataset tersebut."
      ],
      "metadata": {
        "id": "5AsnqWzY55LU"
      }
    },
    {
      "cell_type": "code",
      "source": [
        "# Load dataset OnlineRetail\n",
        "df = pd.read_csv( 'https://raw.githubusercontent.com/Cloud-Dark/datacollection/main/melb_data_processed.csv',\n",
        "                 header = 0,\n",
        "                 encoding = 'unicode_escape')\n",
        "df.head()"
      ],
      "metadata": {
        "colab": {
          "base_uri": "https://localhost:8080/",
          "height": 206
        },
        "id": "uQHjJSp_54Ls",
        "outputId": "374987bd-e967-4b8d-a487-b054f700ad2a"
      },
      "execution_count": 3,
      "outputs": [
        {
          "output_type": "execute_result",
          "data": {
            "text/plain": [
              "       Suburb           Address  Rooms Type      Price Method SellerG  \\\n",
              "0  Abbotsford      85 Turner St      2    h  1480000.0      S  Biggin   \n",
              "1  Abbotsford   25 Bloomburg St      2    h  1035000.0      S  Biggin   \n",
              "2  Abbotsford      5 Charles St      3    h  1465000.0     SP  Biggin   \n",
              "3  Abbotsford  40 Federation La      3    h   850000.0     PI  Biggin   \n",
              "4  Abbotsford       55a Park St      4    h  1600000.0     VB  Nelson   \n",
              "\n",
              "        Date  Distance  Postcode  Bedroom2  Bathroom  Car  Landsize  \\\n",
              "0  3/12/2016       2.5    3067.0       2.0       1.0  1.0     202.0   \n",
              "1  4/02/2016       2.5    3067.0       2.0       1.0  0.0     156.0   \n",
              "2  4/03/2017       2.5    3067.0       3.0       2.0  0.0     134.0   \n",
              "3  4/03/2017       2.5    3067.0       3.0       2.0  1.0      94.0   \n",
              "4  4/06/2016       2.5    3067.0       3.0       1.0  2.0     120.0   \n",
              "\n",
              "  CouncilArea  Lattitude  Longtitude             Regionname  Propertycount  \n",
              "0       Yarra   -37.7996    144.9984  Northern Metropolitan         4019.0  \n",
              "1       Yarra   -37.8079    144.9934  Northern Metropolitan         4019.0  \n",
              "2       Yarra   -37.8093    144.9944  Northern Metropolitan         4019.0  \n",
              "3       Yarra   -37.7969    144.9969  Northern Metropolitan         4019.0  \n",
              "4       Yarra   -37.8072    144.9941  Northern Metropolitan         4019.0  "
            ],
            "text/html": [
              "\n",
              "  <div id=\"df-aab807c8-4ebc-4523-a7be-92659cd90e96\">\n",
              "    <div class=\"colab-df-container\">\n",
              "      <div>\n",
              "<style scoped>\n",
              "    .dataframe tbody tr th:only-of-type {\n",
              "        vertical-align: middle;\n",
              "    }\n",
              "\n",
              "    .dataframe tbody tr th {\n",
              "        vertical-align: top;\n",
              "    }\n",
              "\n",
              "    .dataframe thead th {\n",
              "        text-align: right;\n",
              "    }\n",
              "</style>\n",
              "<table border=\"1\" class=\"dataframe\">\n",
              "  <thead>\n",
              "    <tr style=\"text-align: right;\">\n",
              "      <th></th>\n",
              "      <th>Suburb</th>\n",
              "      <th>Address</th>\n",
              "      <th>Rooms</th>\n",
              "      <th>Type</th>\n",
              "      <th>Price</th>\n",
              "      <th>Method</th>\n",
              "      <th>SellerG</th>\n",
              "      <th>Date</th>\n",
              "      <th>Distance</th>\n",
              "      <th>Postcode</th>\n",
              "      <th>Bedroom2</th>\n",
              "      <th>Bathroom</th>\n",
              "      <th>Car</th>\n",
              "      <th>Landsize</th>\n",
              "      <th>CouncilArea</th>\n",
              "      <th>Lattitude</th>\n",
              "      <th>Longtitude</th>\n",
              "      <th>Regionname</th>\n",
              "      <th>Propertycount</th>\n",
              "    </tr>\n",
              "  </thead>\n",
              "  <tbody>\n",
              "    <tr>\n",
              "      <th>0</th>\n",
              "      <td>Abbotsford</td>\n",
              "      <td>85 Turner St</td>\n",
              "      <td>2</td>\n",
              "      <td>h</td>\n",
              "      <td>1480000.0</td>\n",
              "      <td>S</td>\n",
              "      <td>Biggin</td>\n",
              "      <td>3/12/2016</td>\n",
              "      <td>2.5</td>\n",
              "      <td>3067.0</td>\n",
              "      <td>2.0</td>\n",
              "      <td>1.0</td>\n",
              "      <td>1.0</td>\n",
              "      <td>202.0</td>\n",
              "      <td>Yarra</td>\n",
              "      <td>-37.7996</td>\n",
              "      <td>144.9984</td>\n",
              "      <td>Northern Metropolitan</td>\n",
              "      <td>4019.0</td>\n",
              "    </tr>\n",
              "    <tr>\n",
              "      <th>1</th>\n",
              "      <td>Abbotsford</td>\n",
              "      <td>25 Bloomburg St</td>\n",
              "      <td>2</td>\n",
              "      <td>h</td>\n",
              "      <td>1035000.0</td>\n",
              "      <td>S</td>\n",
              "      <td>Biggin</td>\n",
              "      <td>4/02/2016</td>\n",
              "      <td>2.5</td>\n",
              "      <td>3067.0</td>\n",
              "      <td>2.0</td>\n",
              "      <td>1.0</td>\n",
              "      <td>0.0</td>\n",
              "      <td>156.0</td>\n",
              "      <td>Yarra</td>\n",
              "      <td>-37.8079</td>\n",
              "      <td>144.9934</td>\n",
              "      <td>Northern Metropolitan</td>\n",
              "      <td>4019.0</td>\n",
              "    </tr>\n",
              "    <tr>\n",
              "      <th>2</th>\n",
              "      <td>Abbotsford</td>\n",
              "      <td>5 Charles St</td>\n",
              "      <td>3</td>\n",
              "      <td>h</td>\n",
              "      <td>1465000.0</td>\n",
              "      <td>SP</td>\n",
              "      <td>Biggin</td>\n",
              "      <td>4/03/2017</td>\n",
              "      <td>2.5</td>\n",
              "      <td>3067.0</td>\n",
              "      <td>3.0</td>\n",
              "      <td>2.0</td>\n",
              "      <td>0.0</td>\n",
              "      <td>134.0</td>\n",
              "      <td>Yarra</td>\n",
              "      <td>-37.8093</td>\n",
              "      <td>144.9944</td>\n",
              "      <td>Northern Metropolitan</td>\n",
              "      <td>4019.0</td>\n",
              "    </tr>\n",
              "    <tr>\n",
              "      <th>3</th>\n",
              "      <td>Abbotsford</td>\n",
              "      <td>40 Federation La</td>\n",
              "      <td>3</td>\n",
              "      <td>h</td>\n",
              "      <td>850000.0</td>\n",
              "      <td>PI</td>\n",
              "      <td>Biggin</td>\n",
              "      <td>4/03/2017</td>\n",
              "      <td>2.5</td>\n",
              "      <td>3067.0</td>\n",
              "      <td>3.0</td>\n",
              "      <td>2.0</td>\n",
              "      <td>1.0</td>\n",
              "      <td>94.0</td>\n",
              "      <td>Yarra</td>\n",
              "      <td>-37.7969</td>\n",
              "      <td>144.9969</td>\n",
              "      <td>Northern Metropolitan</td>\n",
              "      <td>4019.0</td>\n",
              "    </tr>\n",
              "    <tr>\n",
              "      <th>4</th>\n",
              "      <td>Abbotsford</td>\n",
              "      <td>55a Park St</td>\n",
              "      <td>4</td>\n",
              "      <td>h</td>\n",
              "      <td>1600000.0</td>\n",
              "      <td>VB</td>\n",
              "      <td>Nelson</td>\n",
              "      <td>4/06/2016</td>\n",
              "      <td>2.5</td>\n",
              "      <td>3067.0</td>\n",
              "      <td>3.0</td>\n",
              "      <td>1.0</td>\n",
              "      <td>2.0</td>\n",
              "      <td>120.0</td>\n",
              "      <td>Yarra</td>\n",
              "      <td>-37.8072</td>\n",
              "      <td>144.9941</td>\n",
              "      <td>Northern Metropolitan</td>\n",
              "      <td>4019.0</td>\n",
              "    </tr>\n",
              "  </tbody>\n",
              "</table>\n",
              "</div>\n",
              "      <button class=\"colab-df-convert\" onclick=\"convertToInteractive('df-aab807c8-4ebc-4523-a7be-92659cd90e96')\"\n",
              "              title=\"Convert this dataframe to an interactive table.\"\n",
              "              style=\"display:none;\">\n",
              "        \n",
              "  <svg xmlns=\"http://www.w3.org/2000/svg\" height=\"24px\"viewBox=\"0 0 24 24\"\n",
              "       width=\"24px\">\n",
              "    <path d=\"M0 0h24v24H0V0z\" fill=\"none\"/>\n",
              "    <path d=\"M18.56 5.44l.94 2.06.94-2.06 2.06-.94-2.06-.94-.94-2.06-.94 2.06-2.06.94zm-11 1L8.5 8.5l.94-2.06 2.06-.94-2.06-.94L8.5 2.5l-.94 2.06-2.06.94zm10 10l.94 2.06.94-2.06 2.06-.94-2.06-.94-.94-2.06-.94 2.06-2.06.94z\"/><path d=\"M17.41 7.96l-1.37-1.37c-.4-.4-.92-.59-1.43-.59-.52 0-1.04.2-1.43.59L10.3 9.45l-7.72 7.72c-.78.78-.78 2.05 0 2.83L4 21.41c.39.39.9.59 1.41.59.51 0 1.02-.2 1.41-.59l7.78-7.78 2.81-2.81c.8-.78.8-2.07 0-2.86zM5.41 20L4 18.59l7.72-7.72 1.47 1.35L5.41 20z\"/>\n",
              "  </svg>\n",
              "      </button>\n",
              "      \n",
              "  <style>\n",
              "    .colab-df-container {\n",
              "      display:flex;\n",
              "      flex-wrap:wrap;\n",
              "      gap: 12px;\n",
              "    }\n",
              "\n",
              "    .colab-df-convert {\n",
              "      background-color: #E8F0FE;\n",
              "      border: none;\n",
              "      border-radius: 50%;\n",
              "      cursor: pointer;\n",
              "      display: none;\n",
              "      fill: #1967D2;\n",
              "      height: 32px;\n",
              "      padding: 0 0 0 0;\n",
              "      width: 32px;\n",
              "    }\n",
              "\n",
              "    .colab-df-convert:hover {\n",
              "      background-color: #E2EBFA;\n",
              "      box-shadow: 0px 1px 2px rgba(60, 64, 67, 0.3), 0px 1px 3px 1px rgba(60, 64, 67, 0.15);\n",
              "      fill: #174EA6;\n",
              "    }\n",
              "\n",
              "    [theme=dark] .colab-df-convert {\n",
              "      background-color: #3B4455;\n",
              "      fill: #D2E3FC;\n",
              "    }\n",
              "\n",
              "    [theme=dark] .colab-df-convert:hover {\n",
              "      background-color: #434B5C;\n",
              "      box-shadow: 0px 1px 3px 1px rgba(0, 0, 0, 0.15);\n",
              "      filter: drop-shadow(0px 1px 2px rgba(0, 0, 0, 0.3));\n",
              "      fill: #FFFFFF;\n",
              "    }\n",
              "  </style>\n",
              "\n",
              "      <script>\n",
              "        const buttonEl =\n",
              "          document.querySelector('#df-aab807c8-4ebc-4523-a7be-92659cd90e96 button.colab-df-convert');\n",
              "        buttonEl.style.display =\n",
              "          google.colab.kernel.accessAllowed ? 'block' : 'none';\n",
              "\n",
              "        async function convertToInteractive(key) {\n",
              "          const element = document.querySelector('#df-aab807c8-4ebc-4523-a7be-92659cd90e96');\n",
              "          const dataTable =\n",
              "            await google.colab.kernel.invokeFunction('convertToInteractive',\n",
              "                                                     [key], {});\n",
              "          if (!dataTable) return;\n",
              "\n",
              "          const docLinkHtml = 'Like what you see? Visit the ' +\n",
              "            '<a target=\"_blank\" href=https://colab.research.google.com/notebooks/data_table.ipynb>data table notebook</a>'\n",
              "            + ' to learn more about interactive tables.';\n",
              "          element.innerHTML = '';\n",
              "          dataTable['output_type'] = 'display_data';\n",
              "          await google.colab.output.renderOutput(dataTable, element);\n",
              "          const docLink = document.createElement('div');\n",
              "          docLink.innerHTML = docLinkHtml;\n",
              "          element.appendChild(docLink);\n",
              "        }\n",
              "      </script>\n",
              "    </div>\n",
              "  </div>\n",
              "  "
            ]
          },
          "metadata": {},
          "execution_count": 3
        }
      ]
    },
    {
      "cell_type": "markdown",
      "source": [
        "Berdasarkan output diatas, dapat disimpulkan bahwa dataset tersebut memiliki 19 atribut, diantaranya: Suburb, Address, Rooms, Type, Price\tMethod, SellerG, Date\tDistance, Postcode, Bedroom2, Bathroom, Car, Landsize, CouncilArea, Lattitude, \tLongtitude, Regionname, Propertycount.\n",
        "\n",
        "Untuk detail info dan statistika deskriptif terkait dataset tersebut dapat diperoleh pada output-output dibawah ini:"
      ],
      "metadata": {
        "id": "nx4amsqq70sz"
      }
    },
    {
      "cell_type": "code",
      "source": [
        "def check_data(dataframe, head=5):\n",
        "    print(\" SHAPE \".center(70,'-'))\n",
        "    print('Rows: {}'.format(dataframe.shape[0]))\n",
        "    print('Columns: {}'.format(dataframe.shape[1]))\n",
        "    print(\" TYPES \".center(70,'-'))\n",
        "    print(dataframe.dtypes)\n",
        "    print(\" HEAD \".center(70,'-'))\n",
        "    print(dataframe.head(head))\n",
        "    print(\" TAIL \".center(70,'-'))\n",
        "    print(dataframe.tail(head))\n",
        "    print(\" MISSING VALUES \".center(70,'-'))\n",
        "    print(dataframe.isnull().sum())\n",
        "    print(\" DUPLICATED VALUES \".center(70,'-'))\n",
        "    print(dataframe.duplicated().sum())\n",
        "    print(\" QUANTILES \".center(70,'-'))\n",
        "    print(dataframe.quantile([0, 0.05, 0.50, 0.95, 0.99, 1]).T)\n",
        "    \n",
        "check_data(df)"
      ],
      "metadata": {
        "colab": {
          "base_uri": "https://localhost:8080/"
        },
        "id": "FjL5LRbI7qcD",
        "outputId": "d1a3b7c8-76c5-4e6d-a843-71eac022f20a"
      },
      "execution_count": 4,
      "outputs": [
        {
          "output_type": "stream",
          "name": "stdout",
          "text": [
            "------------------------------- SHAPE --------------------------------\n",
            "Rows: 13580\n",
            "Columns: 19\n",
            "------------------------------- TYPES --------------------------------\n",
            "Suburb            object\n",
            "Address           object\n",
            "Rooms              int64\n",
            "Type              object\n",
            "Price            float64\n",
            "Method            object\n",
            "SellerG           object\n",
            "Date              object\n",
            "Distance         float64\n",
            "Postcode         float64\n",
            "Bedroom2         float64\n",
            "Bathroom         float64\n",
            "Car              float64\n",
            "Landsize         float64\n",
            "CouncilArea       object\n",
            "Lattitude        float64\n",
            "Longtitude       float64\n",
            "Regionname        object\n",
            "Propertycount    float64\n",
            "dtype: object\n",
            "-------------------------------- HEAD --------------------------------\n",
            "       Suburb           Address  Rooms Type      Price Method SellerG  \\\n",
            "0  Abbotsford      85 Turner St      2    h  1480000.0      S  Biggin   \n",
            "1  Abbotsford   25 Bloomburg St      2    h  1035000.0      S  Biggin   \n",
            "2  Abbotsford      5 Charles St      3    h  1465000.0     SP  Biggin   \n",
            "3  Abbotsford  40 Federation La      3    h   850000.0     PI  Biggin   \n",
            "4  Abbotsford       55a Park St      4    h  1600000.0     VB  Nelson   \n",
            "\n",
            "        Date  Distance  Postcode  Bedroom2  Bathroom  Car  Landsize  \\\n",
            "0  3/12/2016       2.5    3067.0       2.0       1.0  1.0     202.0   \n",
            "1  4/02/2016       2.5    3067.0       2.0       1.0  0.0     156.0   \n",
            "2  4/03/2017       2.5    3067.0       3.0       2.0  0.0     134.0   \n",
            "3  4/03/2017       2.5    3067.0       3.0       2.0  1.0      94.0   \n",
            "4  4/06/2016       2.5    3067.0       3.0       1.0  2.0     120.0   \n",
            "\n",
            "  CouncilArea  Lattitude  Longtitude             Regionname  Propertycount  \n",
            "0       Yarra   -37.7996    144.9984  Northern Metropolitan         4019.0  \n",
            "1       Yarra   -37.8079    144.9934  Northern Metropolitan         4019.0  \n",
            "2       Yarra   -37.8093    144.9944  Northern Metropolitan         4019.0  \n",
            "3       Yarra   -37.7969    144.9969  Northern Metropolitan         4019.0  \n",
            "4       Yarra   -37.8072    144.9941  Northern Metropolitan         4019.0  \n",
            "-------------------------------- TAIL --------------------------------\n",
            "              Suburb        Address  Rooms Type      Price Method   SellerG  \\\n",
            "13575  Wheelers Hill   12 Strada Cr      4    h  1245000.0      S     Barry   \n",
            "13576   Williamstown  77 Merrett Dr      3    h  1031000.0     SP  Williams   \n",
            "13577   Williamstown    83 Power St      3    h  1170000.0      S     Raine   \n",
            "13578   Williamstown   96 Verdon St      4    h  2500000.0     PI   Sweeney   \n",
            "13579     Yarraville     6 Agnes St      4    h  1285000.0     SP   Village   \n",
            "\n",
            "             Date  Distance  Postcode  Bedroom2  Bathroom  Car  Landsize  \\\n",
            "13575  26/08/2017      16.7    3150.0       4.0       2.0  2.0     652.0   \n",
            "13576  26/08/2017       6.8    3016.0       3.0       2.0  2.0     333.0   \n",
            "13577  26/08/2017       6.8    3016.0       3.0       2.0  4.0     436.0   \n",
            "13578  26/08/2017       6.8    3016.0       4.0       1.0  5.0     866.0   \n",
            "13579  26/08/2017       6.3    3013.0       4.0       1.0  1.0     362.0   \n",
            "\n",
            "      CouncilArea  Lattitude  Longtitude                  Regionname  \\\n",
            "13575    Moreland  -37.90562   145.16761  South-Eastern Metropolitan   \n",
            "13576    Moreland  -37.85927   144.87904        Western Metropolitan   \n",
            "13577    Moreland  -37.85274   144.88738        Western Metropolitan   \n",
            "13578    Moreland  -37.85908   144.89299        Western Metropolitan   \n",
            "13579    Moreland  -37.81188   144.88449        Western Metropolitan   \n",
            "\n",
            "       Propertycount  \n",
            "13575         7392.0  \n",
            "13576         6380.0  \n",
            "13577         6380.0  \n",
            "13578         6380.0  \n",
            "13579         6543.0  \n",
            "--------------------------- MISSING VALUES ---------------------------\n",
            "Suburb           0\n",
            "Address          0\n",
            "Rooms            0\n",
            "Type             0\n",
            "Price            0\n",
            "Method           0\n",
            "SellerG          0\n",
            "Date             0\n",
            "Distance         0\n",
            "Postcode         0\n",
            "Bedroom2         0\n",
            "Bathroom         0\n",
            "Car              0\n",
            "Landsize         0\n",
            "CouncilArea      0\n",
            "Lattitude        0\n",
            "Longtitude       0\n",
            "Regionname       0\n",
            "Propertycount    0\n",
            "dtype: int64\n",
            "------------------------- DUPLICATED VALUES --------------------------\n",
            "0\n",
            "----------------------------- QUANTILES ------------------------------\n",
            "                      0.00           0.05           0.50          0.95  \\\n",
            "Rooms              1.00000       1.000000       3.000000  5.000000e+00   \n",
            "Price          85000.00000  405000.000000  903000.000000  2.290050e+06   \n",
            "Distance           0.00000       2.600000       9.200000  2.060000e+01   \n",
            "Postcode        3000.00000    3013.000000    3084.000000  3.204000e+03   \n",
            "Bedroom2           0.00000       1.000000       3.000000  4.000000e+00   \n",
            "Bathroom           0.00000       1.000000       1.000000  3.000000e+00   \n",
            "Car                0.00000       0.000000       2.000000  3.000000e+00   \n",
            "Landsize           0.00000       0.000000     440.000000  9.950000e+02   \n",
            "Lattitude        -38.18255     -37.934800     -37.802355 -3.769894e+01   \n",
            "Longtitude       144.43181     144.835785     145.000100  1.451536e+02   \n",
            "Propertycount    249.00000    2185.000000    6555.000000  1.494900e+04   \n",
            "\n",
            "                       0.99          1.00  \n",
            "Rooms          5.000000e+00  1.000000e+01  \n",
            "Price          3.338150e+06  9.000000e+06  \n",
            "Distance       3.230000e+01  4.810000e+01  \n",
            "Postcode       3.429000e+03  3.977000e+03  \n",
            "Bedroom2       5.000000e+00  2.000000e+01  \n",
            "Bathroom       4.000000e+00  8.000000e+00  \n",
            "Car            5.000000e+00  1.000000e+01  \n",
            "Landsize       2.959830e+03  4.330140e+05  \n",
            "Lattitude     -3.762288e+01 -3.740853e+01  \n",
            "Longtitude     1.452694e+02  1.455264e+02  \n",
            "Propertycount  2.165000e+04  2.165000e+04  \n"
          ]
        }
      ]
    },
    {
      "cell_type": "markdown",
      "source": [
        "##Step 3: Data Cleansing"
      ],
      "metadata": {
        "id": "pLL9YtHP-iVD"
      }
    },
    {
      "cell_type": "markdown",
      "source": [
        "Untuk keperluan modul ini, kita akan melihat correlation pada column numeric saja. Buat dataframe baru yang menampung dataframe dengan type numeric."
      ],
      "metadata": {
        "id": "2uiKRQQv6dRq"
      }
    },
    {
      "cell_type": "code",
      "source": [
        "df = df.drop(['Lattitude', 'Longtitude', 'Postcode'], axis=1)"
      ],
      "metadata": {
        "id": "xEpOGWw76cOI"
      },
      "execution_count": 5,
      "outputs": []
    },
    {
      "cell_type": "markdown",
      "source": [
        "##Step 4: Build Modelling"
      ],
      "metadata": {
        "id": "epnTOKbU-vdo"
      }
    },
    {
      "cell_type": "markdown",
      "source": [
        "Kita akan melihat correlation pada column numeric saja. Buat dataframe baru yang menampung dataframe dengan type numeric.\n",
        "\n",
        "Pertama definisikan array typedata numeric, dan gunakan untuk mengambil nama column dengan tipe data numeric."
      ],
      "metadata": {
        "id": "KAss2pcl8urL"
      }
    },
    {
      "cell_type": "code",
      "source": [
        "num_type = ['int16', 'int32', 'int64', 'float16', 'float32', 'float64']\n",
        "num_col = list(df.select_dtypes(include=num_type).columns)"
      ],
      "metadata": {
        "id": "W_vdJqd6_I97"
      },
      "execution_count": null,
      "outputs": []
    },
    {
      "cell_type": "markdown",
      "source": [
        "Kemudian buat dataframe baru yang berisi column numeric value."
      ],
      "metadata": {
        "id": "UWFnS8ag_Obw"
      }
    },
    {
      "cell_type": "code",
      "source": [
        "df_num = df[num_col]"
      ],
      "metadata": {
        "id": "RL9GPuzs80qd"
      },
      "execution_count": 6,
      "outputs": []
    },
    {
      "cell_type": "markdown",
      "source": [
        "Menampilkan Correlation data"
      ],
      "metadata": {
        "id": "prRQh8Cm_RA5"
      }
    },
    {
      "cell_type": "markdown",
      "source": [
        "##Step 5: Experiment\n",
        "Terdapat 3 method untuk melihat data correlation, yaitu Pearson, Spearman dan Kendall. Namun pada kesempatan kali ini saya menggunakan methode Spearman"
      ],
      "metadata": {
        "id": "zsBGS2KI82Uq"
      }
    },
    {
      "cell_type": "code",
      "source": [
        "pearson_corr = df_num.corr(method='pearson')\n",
        "plt.figure(figsize=(8,6))\n",
        "sns.heatmap(pearson_corr, linewidth=1, annot=True, annot_kws={'size':10})\n",
        "plt.title('Pearson Correlation', fontsize=22)\n",
        "plt.show()"
      ],
      "metadata": {
        "colab": {
          "base_uri": "https://localhost:8080/",
          "height": 456
        },
        "id": "_x3nTCpl84WP",
        "outputId": "ba5b109c-edb7-4593-db1f-b14b4e9cb470"
      },
      "execution_count": 7,
      "outputs": [
        {
          "output_type": "display_data",
          "data": {
            "text/plain": [
              "<Figure size 576x432 with 2 Axes>"
            ],
            "image/png": "[encoded data removed]"
          },
          "metadata": {
            "needs_background": "light"
          }
        }
      ]
    },
    {
      "cell_type": "markdown",
      "source": [
        "##Step 6: Kesimpulan & Analisis\n",
        "Correlation positif ditunjukan dengan warna yang lebih terang. Sementara correlation negatif akan ditunjukan dalam warna yang gelap.\n",
        "\n",
        "Dapat dilihat Jumlah rooms, bedroom2, bathroom dan landsize berkolerasi positif dengan price. Yang berarti makin banyak ruangan, kamar tidur, kamar mandi atau ukuran tanah makin besar makan harga makin mahal.\n",
        "\n",
        "Sementara distance menunjukan correlation negatif, makin jauh (makin besar nilai distance) dari pusat kota, makin murah harga rumah tersebut."
      ],
      "metadata": {
        "id": "9aT_1wkF9L6Q"
      }
    }
  ]
}